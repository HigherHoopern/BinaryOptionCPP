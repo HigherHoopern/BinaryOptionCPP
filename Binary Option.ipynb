{
 "cells": [
  {
   "cell_type": "code",
   "execution_count": 1,
   "metadata": {},
   "outputs": [
    {
     "data": {
      "text/html": [
       "        <script type=\"text/javascript\">\n",
       "        window.PlotlyConfig = {MathJaxConfig: 'local'};\n",
       "        if (window.MathJax && window.MathJax.Hub && window.MathJax.Hub.Config) {window.MathJax.Hub.Config({SVG: {font: \"STIX-Web\"}});}\n",
       "        if (typeof require !== 'undefined') {\n",
       "        require.undef(\"plotly\");\n",
       "        requirejs.config({\n",
       "            paths: {\n",
       "                'plotly': ['https://cdn.plot.ly/plotly-2.16.1.min']\n",
       "            }\n",
       "        });\n",
       "        require(['plotly'], function(Plotly) {\n",
       "            window._Plotly = Plotly;\n",
       "        });\n",
       "        }\n",
       "        </script>\n",
       "        "
      ]
     },
     "metadata": {},
     "output_type": "display_data"
    },
    {
     "data": {
      "text/html": [
       "        <script type=\"text/javascript\">\n",
       "        window.PlotlyConfig = {MathJaxConfig: 'local'};\n",
       "        if (window.MathJax && window.MathJax.Hub && window.MathJax.Hub.Config) {window.MathJax.Hub.Config({SVG: {font: \"STIX-Web\"}});}\n",
       "        if (typeof require !== 'undefined') {\n",
       "        require.undef(\"plotly\");\n",
       "        requirejs.config({\n",
       "            paths: {\n",
       "                'plotly': ['https://cdn.plot.ly/plotly-2.16.1.min']\n",
       "            }\n",
       "        });\n",
       "        require(['plotly'], function(Plotly) {\n",
       "            window._Plotly = Plotly;\n",
       "        });\n",
       "        }\n",
       "        </script>\n",
       "        "
      ]
     },
     "metadata": {},
     "output_type": "display_data"
    }
   ],
   "source": [
    "# Importing libraries\n",
    "import pandas as pd\n",
    "from numpy import *\n",
    "\n",
    "# Libraries for plotting\n",
    "import matplotlib.pyplot as plt\n",
    "import cufflinks as cf\n",
    "cf.set_config_file(offline=True)\n",
    "\n",
    "# Set max row to 300\n",
    "pd.set_option('display.max_rows', 300)"
   ]
  },
  {
   "cell_type": "code",
   "execution_count": 2,
   "metadata": {},
   "outputs": [
    {
     "data": {
      "text/plain": [
       "(0.53289, 0.417767)"
      ]
     },
     "execution_count": 2,
     "metadata": {},
     "output_type": "execute_result"
    }
   ],
   "source": [
    "# Import Libraries\n",
    "import random # generate random number\n",
    "from math import exp, sqrt\n",
    "\n",
    "# Assign values to Parameters\n",
    "\n",
    "S0 = 100.0    # Today's Stock Price\n",
    "E = 100.0     # Strike Price\n",
    "Sigma = 0.2       # Volality of 20%\n",
    "r = 0.05      # Constant Risk-free rate of 1%\n",
    "T = 1.0       # Time to Expiry (T-t)\n",
    "SimN = 500000    # Monte Carol Simulation Numbers\n",
    "\n",
    "# Compute stock price via Euler_Maruyama Sechme\n",
    "def Euler_Maruyama(S0,Sigma, r, T):\n",
    "    ST = S0 * exp(T*(r-0.5*Sigma**2)+ Sigma*sqrt(T)* random.gauss(0,1.0))\n",
    "    return ST \n",
    "\n",
    "# Define Heaviside binary option payoff function. \n",
    "# This name is after English mathematician Oliver Heaviside.\n",
    "# Define binary call option payoff function \n",
    "def Heaviside(H):\n",
    "    if H > 0:\n",
    "        return 1.0\n",
    "    else:\n",
    "        return 0.0\n",
    "\n",
    "Call_Payoff_Sum = 0.0    # Initialise Binary Call Option Payoff\n",
    "Put_Payoff_Sum  =0.0  # Initialise Binary Put Option Payoff\n",
    "\n",
    "#  Compute Call option Payoff by interating simulation numbers\n",
    "for i in range(SimN):\n",
    "    ST = Euler_Maruyama(S0, Sigma, r, T) \n",
    "    Call_Payoff_Sum += Heaviside(ST-E)\n",
    "\n",
    "#  Compute Put option Payoff by interating simulation numbers\n",
    "for i in range(SimN):\n",
    "    ST = Euler_Maruyama(S0, Sigma, r, T) \n",
    "    Put_Payoff_Sum += Heaviside(E-ST) \n",
    "\n",
    "# compute option value\n",
    "MC_Call_Value = exp(-r * T) * (Call_Payoff_Sum / float(SimN))\n",
    "MC_Put_Value = exp(-r * T) * (Put_Payoff_Sum / float(SimN))\n",
    "\n",
    "round(MC_Call_Value,6)  , round(MC_Put_Value,6)"
   ]
  },
  {
   "cell_type": "code",
   "execution_count": null,
   "metadata": {},
   "outputs": [],
   "source": []
  }
 ],
 "metadata": {
  "kernelspec": {
   "display_name": "JL",
   "language": "python",
   "name": "jl"
  },
  "language_info": {
   "codemirror_mode": {
    "name": "ipython",
    "version": 3
   },
   "file_extension": ".py",
   "mimetype": "text/x-python",
   "name": "python",
   "nbconvert_exporter": "python",
   "pygments_lexer": "ipython3",
   "version": "3.10.0"
  },
  "metadata": {
   "interpreter": {
    "hash": "cdcbae7f343d13f191227f50173f5b72aac84f786af36ea97e1bb65ad36dcdd2"
   }
  },
  "orig_nbformat": 2
 },
 "nbformat": 4,
 "nbformat_minor": 2
}
